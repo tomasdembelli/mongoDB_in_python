{
 "cells": [
  {
   "cell_type": "markdown",
   "metadata": {},
   "source": [
    "import necessary packages"
   ]
  },
  {
   "cell_type": "code",
   "execution_count": null,
   "metadata": {},
   "outputs": [],
   "source": [
    "import pymongo\n",
    "import json"
   ]
  },
  {
   "cell_type": "markdown",
   "metadata": {},
   "source": [
    "Action"
   ]
  },
  {
   "cell_type": "code",
   "execution_count": null,
   "metadata": {},
   "outputs": [],
   "source": [
    "# Define variables\n",
    "data = './data/chargePoints.json'\n",
    "dbPortNumber = '27017'    # --> Confirm with mongod.log '...waiting for connections on port 27017'"
   ]
  },
  {
   "cell_type": "code",
   "execution_count": null,
   "metadata": {},
   "outputs": [],
   "source": [
    "# Read the json file and assign it to a variable\n",
    "with open(data, mode = 'r') as jsonFile:\n",
    "    jsonData = json.load(jsonFile)\n",
    "\n",
    "# Print the items in the json data\n",
    "for item in jsonData:\n",
    "    print(item)"
   ]
  },
  {
   "cell_type": "code",
   "execution_count": null,
   "metadata": {},
   "outputs": [],
   "source": [
    "# Check the x th element of the charge points\n",
    "x = 457\n",
    "jsonData['ChargeDevice'][x]"
   ]
  },
  {
   "cell_type": "code",
   "execution_count": null,
   "metadata": {},
   "outputs": [],
   "source": [
    "# Create a client to connect to host/server DB\n",
    "mongoClient = pymongo.MongoClient(f'mongodb://localhost:{dbPortNumber}')"
   ]
  },
  {
   "cell_type": "code",
   "execution_count": null,
   "metadata": {},
   "outputs": [],
   "source": [
    "# Connect to database if exist, create db if it doesn't exist.\n",
    "mongoDB = mongoClient['chargePointsDataBase']"
   ]
  },
  {
   "cell_type": "code",
   "execution_count": null,
   "metadata": {},
   "outputs": [],
   "source": [
    "# Create collection/table in the database.\n",
    "mongoCollection = mongoDB['chargePointsCollection']"
   ]
  },
  {
   "cell_type": "code",
   "execution_count": null,
   "metadata": {},
   "outputs": [],
   "source": [
    "# Populate the charge points data in the table\n",
    "listToWrite = jsonData['ChargeDevice']\n",
    "id = 1\n",
    "for item in listToWrite:\n",
    "    item['_id'] = id    # If we don't assign our choice of _id here, MongoDB will use a unique value from the document.\n",
    "    insertProcess = mongoCollection.insert_one(item)\n",
    "    id += 1"
   ]
  },
  {
   "cell_type": "code",
   "execution_count": null,
   "metadata": {},
   "outputs": [],
   "source": [
    "# Check if we have created and filled the collection.\n",
    "print(mongoDB.list_collection_names())"
   ]
  },
  {
   "cell_type": "code",
   "execution_count": null,
   "metadata": {},
   "outputs": [],
   "source": [
    "# Find the x th document in the database: find_one() --> returns a document\n",
    "ID = x\n",
    "searchID = {'_id': ID}\n",
    "searchResult = mongoCollection.find_one(searchID)\n",
    "print(searchResult)"
   ]
  },
  {
   "cell_type": "code",
   "execution_count": null,
   "metadata": {},
   "outputs": [],
   "source": [
    "# Find ALL charging points in a specific postcode: find() ---> returns a cursor to iterate\n",
    "# First check how the postcode is presented in the document: 'ChargeDeviceLocation.Address.PostCode': 'W1G 9HF'\n",
    "postcode = 'W1G 9HF'\n",
    "searchPostCode = {'ChargeDeviceLocation.Address.PostCode': postcode}    # This needs to be identical how it is presented in the data\n",
    "searchResultMany = mongoCollection.find(searchPostCode)\n",
    "print('', '\\t','DB ID', '\\t', 'Device Name', '\\t\\t\\t\\t', 'Post Code')\n",
    "order = 1\n",
    "for result in searchResultMany:\n",
    "    print(order, '\\t', result['_id'], '\\t', result['ChargeDeviceName'], '\\t', result['ChargeDeviceLocation']['Address']['PostCode'])\n",
    "    order += 1\n"
   ]
  },
  {
   "cell_type": "markdown",
   "metadata": {},
   "source": [
    "RESET THE EXERCISE"
   ]
  },
  {
   "cell_type": "code",
   "execution_count": null,
   "metadata": {},
   "outputs": [],
   "source": [
    "# drop a collection\n",
    "mongoCollection.drop()"
   ]
  },
  {
   "cell_type": "code",
   "execution_count": null,
   "metadata": {},
   "outputs": [],
   "source": [
    "# drop DB\n",
    "mongoClient.drop_database('mongoDB')"
   ]
  },
  {
   "cell_type": "code",
   "execution_count": null,
   "metadata": {},
   "outputs": [],
   "source": [
    "# Successful reset should output: ['admin', 'config', 'local'] \n",
    "mongoClient.list_database_names()"
   ]
  },
  {
   "cell_type": "code",
   "execution_count": null,
   "metadata": {},
   "outputs": [],
   "source": []
  }
 ],
 "metadata": {
  "kernelspec": {
   "display_name": "Python 3",
   "language": "python",
   "name": "python3"
  },
  "language_info": {
   "codemirror_mode": {
    "name": "ipython",
    "version": 3
   },
   "file_extension": ".py",
   "mimetype": "text/x-python",
   "name": "python",
   "nbconvert_exporter": "python",
   "pygments_lexer": "ipython3",
   "version": "3.6.7"
  }
 },
 "nbformat": 4,
 "nbformat_minor": 2
}
