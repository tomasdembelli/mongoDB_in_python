{
 "cells": [
  {
   "cell_type": "markdown",
   "metadata": {},
   "source": [
    "import necessary packages"
   ]
  },
  {
   "cell_type": "code",
   "execution_count": 1,
   "metadata": {},
   "outputs": [],
   "source": [
    "import pymongo\n",
    "import json"
   ]
  },
  {
   "cell_type": "markdown",
   "metadata": {},
   "source": [
    "Action"
   ]
  },
  {
   "cell_type": "code",
   "execution_count": 4,
   "metadata": {},
   "outputs": [],
   "source": [
    "# Define variables\n",
    "data = '../data/chargePoints.json'\n",
    "dbPortNumber = '27017'    # --> Confirm with mongod.log '...waiting for connections on port 27017'"
   ]
  },
  {
   "cell_type": "code",
   "execution_count": 91,
   "metadata": {},
   "outputs": [
    {
     "name": "stdout",
     "output_type": "stream",
     "text": [
      "Scheme\n",
      "ChargeDevice\n"
     ]
    }
   ],
   "source": [
    "# Read the json file and assign it to a variable\n",
    "with open(data, mode = 'r') as jsonFile:\n",
    "    jsonData = json.load(jsonFile)\n",
    "\n",
    "# Print the items in the json data\n",
    "for item in jsonData:\n",
    "    print(item)"
   ]
  },
  {
   "cell_type": "code",
   "execution_count": 98,
   "metadata": {},
   "outputs": [
    {
     "data": {
      "text/plain": [
       "{'ChargeDeviceId': 'ae6f3ae4807e6e1fa3c3b9b8418b6783',\n",
       " 'ChargeDeviceRef': 'NCRA71',\n",
       " 'ChargeDeviceName': 'Harley Street Car Park (Q-Park) 8',\n",
       " 'ChargeDeviceText': None,\n",
       " 'ChargeDeviceLocation': {'Latitude': '51.517916',\n",
       "  'Longitude': '-0.145613',\n",
       "  'Address': {'SubBuildingName': None,\n",
       "   'BuildingName': '',\n",
       "   'BuildingNumber': '5',\n",
       "   'Thoroughfare': 'Queen Anne Mews',\n",
       "   'Street': '',\n",
       "   'DoubleDependantLocality': None,\n",
       "   'DependantLocality': None,\n",
       "   'PostTown': 'Harley Street',\n",
       "   'County': 'Greater London',\n",
       "   'PostCode': 'W1G 9HF',\n",
       "   'Country': 'gb',\n",
       "   'UPRN': None},\n",
       "  'LocationShortDescription': None,\n",
       "  'LocationLongDescription': ''},\n",
       " 'ChargeDeviceManufacturer': None,\n",
       " 'ChargeDeviceModel': '',\n",
       " 'PublishStatusID': '1',\n",
       " 'DateCreated': '2015-10-14 12:12:09',\n",
       " 'DateUpdated': '2015-10-14 12:12:09',\n",
       " 'Attribution': 'Source London',\n",
       " 'DateDeleted': 'n/a',\n",
       " 'Connector': [{'ConnectorId': '1',\n",
       "   'ConnectorType': '3-pin Type G (BS1363)',\n",
       "   'RatedOutputkW': '3.0',\n",
       "   'RatedOutputVoltage': '230',\n",
       "   'RatedOutputCurrent': '13',\n",
       "   'ChargeMethod': 'Single Phase AC',\n",
       "   'ChargeMode': '1',\n",
       "   'ChargePointStatus': 'In service',\n",
       "   'TetheredCable': '0',\n",
       "   'Information': '',\n",
       "   'Validated': '0'},\n",
       "  {'ConnectorId': '2',\n",
       "   'ConnectorType': 'Type 2 Mennekes (IEC62196)',\n",
       "   'RatedOutputkW': '7.0',\n",
       "   'RatedOutputVoltage': '230',\n",
       "   'RatedOutputCurrent': '32',\n",
       "   'ChargeMethod': 'Single Phase AC',\n",
       "   'ChargeMode': '3',\n",
       "   'ChargePointStatus': 'In service',\n",
       "   'TetheredCable': '0',\n",
       "   'Information': '',\n",
       "   'Validated': '0'}],\n",
       " 'DeviceOwner': {'OrganisationName': 'Source London',\n",
       "  'SchemeCode': 'SRC_LDN',\n",
       "  'Website': 'https://www.sourcelondon.net',\n",
       "  'TelephoneNo': '020 3056 8989'},\n",
       " 'DeviceController': {'OrganisationName': 'Source London',\n",
       "  'SchemeCode': 'SRC_LDN',\n",
       "  'Website': 'https://www.sourcelondon.net',\n",
       "  'TelephoneNo': '020 3056 8989'},\n",
       " 'DeviceAccess': [],\n",
       " 'DeviceNetworks': 'Source London',\n",
       " 'ChargeDeviceStatus': 'In service',\n",
       " 'PublishStatus': 'Published',\n",
       " 'DeviceValidated': '0',\n",
       " 'RecordModerated': 'N',\n",
       " 'RecordLastUpdated': None,\n",
       " 'RecordLastUpdatedBy': '',\n",
       " 'PaymentRequiredFlag': False,\n",
       " 'PaymentDetails': '',\n",
       " 'SubscriptionRequiredFlag': False,\n",
       " 'SubscriptionDetails': '',\n",
       " 'ParkingFeesFlag': False,\n",
       " 'ParkingFeesDetails': '',\n",
       " 'ParkingFeesUrl': None,\n",
       " 'AccessRestrictionFlag': False,\n",
       " 'AccessRestrictionDetails': '',\n",
       " 'PhysicalRestrictionFlag': False,\n",
       " 'PhysicalRestrictionText': '',\n",
       " 'OnStreetFlag': False,\n",
       " 'LocationType': 'Public car park',\n",
       " 'Bearing': None,\n",
       " 'Accessible24Hours': False,\n",
       " '_id': 458}"
      ]
     },
     "execution_count": 98,
     "metadata": {},
     "output_type": "execute_result"
    }
   ],
   "source": [
    "# Check the x th element of the charge points\n",
    "x = 457\n",
    "jsonData['ChargeDevice'][x]"
   ]
  },
  {
   "cell_type": "code",
   "execution_count": 7,
   "metadata": {},
   "outputs": [],
   "source": [
    "# Create a client to connect to host/server DB\n",
    "mongoClient = pymongo.MongoClient(f'mongodb://localhost:{dbPortNumber}')"
   ]
  },
  {
   "cell_type": "code",
   "execution_count": 52,
   "metadata": {},
   "outputs": [],
   "source": [
    "# Connect to database if exist, create db if it doesn't exist.\n",
    "mongoDB = mongoClient['chargePointsDataBase']"
   ]
  },
  {
   "cell_type": "code",
   "execution_count": 93,
   "metadata": {},
   "outputs": [],
   "source": [
    "# Create collection/table in the database.\n",
    "mongoCollection = mongoDB['chargePointsCollection']"
   ]
  },
  {
   "cell_type": "code",
   "execution_count": 94,
   "metadata": {},
   "outputs": [],
   "source": [
    "# Populate the charge points data in the table\n",
    "listToWrite = jsonData['ChargeDevice']\n",
    "id = 1\n",
    "for item in listToWrite:\n",
    "    item['_id'] = id    # If we don't assign our choice of _id here, MongoDB will use a unique value from the document.\n",
    "    insertProcess = mongoCollection.insert_one(item)\n",
    "    id += 1"
   ]
  },
  {
   "cell_type": "code",
   "execution_count": 95,
   "metadata": {},
   "outputs": [
    {
     "name": "stdout",
     "output_type": "stream",
     "text": [
      "['chargePointsCollection']\n"
     ]
    }
   ],
   "source": [
    "# Check if we have created and filled the collection.\n",
    "print(mongoDB.list_collection_names())"
   ]
  },
  {
   "cell_type": "code",
   "execution_count": 66,
   "metadata": {},
   "outputs": [
    {
     "name": "stdout",
     "output_type": "stream",
     "text": [
      "{'_id': 1, 'ChargeDeviceId': 'cfeedcdd5e287bef4b583158a12363f1', 'ChargeDeviceRef': 'SRC_LDN60188', 'ChargeDeviceName': '2 Riddons Road', 'ChargeDeviceText': None, 'ChargeDeviceLocation': {'Latitude': '51.431454', 'Longitude': '0.031175', 'Address': {'SubBuildingName': None, 'BuildingName': '', 'BuildingNumber': '', 'Thoroughfare': 'Riddons Road', 'Street': 'Junction with Chinbrook Road', 'DoubleDependantLocality': None, 'DependantLocality': None, 'PostTown': 'Leek', 'County': 'Greater London', 'PostCode': 'SE12 9QR', 'Country': 'gb', 'UPRN': None}, 'LocationShortDescription': None, 'LocationLongDescription': ''}, 'ChargeDeviceManufacturer': None, 'ChargeDeviceModel': None, 'PublishStatusID': '1', 'DateCreated': '2014-08-19 05:15:02', 'DateUpdated': '2015-09-02 11:28:16', 'Attribution': 'Source London', 'DateDeleted': 'n/a', 'Connector': [{'ConnectorId': '1', 'ConnectorType': '3-pin Type G (BS1363)', 'RatedOutputkW': '3.7', 'RatedOutputVoltage': '230', 'RatedOutputCurrent': '16', 'ChargeMethod': 'Single Phase AC', 'ChargeMode': '1', 'ChargePointStatus': 'In service', 'TetheredCable': '0', 'Information': '  x 3-pin square (BS 1363) - Standard (up to 3.7kW, 13-16A)', 'Validated': '0'}, {'ConnectorId': '2', 'ConnectorType': 'Type 2 Mennekes (IEC62196)', 'RatedOutputkW': '7.0', 'RatedOutputVoltage': '230', 'RatedOutputCurrent': '32', 'ChargeMethod': 'Single Phase AC', 'ChargeMode': '3', 'ChargePointStatus': 'In service', 'TetheredCable': '0', 'Information': \"  x 7-pin 'Smart' eg Mennekes (IEC 62196) - Fast (7kW, 32A)\", 'Validated': '0'}], 'DeviceOwner': {'OrganisationName': 'Source London', 'SchemeCode': 'SRC_LDN', 'Website': 'https://www.sourcelondon.net', 'TelephoneNo': '020 3056 8989'}, 'DeviceController': {'OrganisationName': 'Source London', 'SchemeCode': 'SRC_LDN', 'Website': 'https://www.sourcelondon.net', 'TelephoneNo': '020 3056 8989'}, 'DeviceAccess': [], 'DeviceNetworks': 'Source London', 'ChargeDeviceStatus': 'In service', 'PublishStatus': 'Published', 'DeviceValidated': '0', 'RecordModerated': 'Y', 'RecordLastUpdated': '2015-09-02 11:28:16', 'RecordLastUpdatedBy': 'NCR Admin', 'PaymentRequiredFlag': False, 'PaymentDetails': '', 'SubscriptionRequiredFlag': True, 'SubscriptionDetails': '£5 per annum for RFiD card', 'ParkingFeesFlag': False, 'ParkingFeesDetails': '', 'ParkingFeesUrl': None, 'AccessRestrictionFlag': False, 'AccessRestrictionDetails': '', 'PhysicalRestrictionFlag': False, 'PhysicalRestrictionText': '', 'OnStreetFlag': True, 'LocationType': 'On-street', 'Bearing': None, 'Accessible24Hours': False}\n"
     ]
    }
   ],
   "source": [
    "# Find the first document in the database: find_one()\n",
    "ID = 1\n",
    "searchID = {'_id': ID}\n",
    "searchResult = mongoCollection.find_one(searchID)\n",
    "print(searchResult)"
   ]
  },
  {
   "cell_type": "code",
   "execution_count": 121,
   "metadata": {},
   "outputs": [
    {
     "name": "stdout",
     "output_type": "stream",
     "text": [
      " \t DB ID \t Device Name \t\t\t\t Post Code\n",
      "1 \t 261 \t Harley Street Car Park (Q-Park) 1 \t W1G 9HF\n",
      "2 \t 452 \t Harley Street Car Park (Q-Park) 2 \t W1G 9HF\n",
      "3 \t 453 \t Harley Street Car Park (Q-Park) 3 \t W1G 9HF\n",
      "4 \t 454 \t Harley Street Car Park (Q-Park) 4 \t W1G 9HF\n",
      "5 \t 455 \t Harley Street Car Park (Q-Park) 5 \t W1G 9HF\n",
      "6 \t 456 \t Harley Street Car Park (Q-Park) 6 \t W1G 9HF\n",
      "7 \t 457 \t Harley Street Car Park (Q-Park) 7 \t W1G 9HF\n",
      "8 \t 458 \t Harley Street Car Park (Q-Park) 8 \t W1G 9HF\n",
      "9 \t 466 \t Harley Street Car Park (Q-Park) 9 \t W1G 9HF\n",
      "10 \t 467 \t Harley Street Car Park (Q-Park) 10 \t W1G 9HF\n",
      "11 \t 468 \t Harley Street Car Park (Q-Park) 11 \t W1G 9HF\n",
      "12 \t 469 \t Harley Street Car Park (Q-Park) 12 \t W1G 9HF\n"
     ]
    }
   ],
   "source": [
    "# Find ALL charging points in a specific postcode: find() ---> returns a cursor to iterate\n",
    "# First check how the postcode is presented in the document: 'ChargeDeviceLocation.Address.PostCode': 'W1G 9HF'\n",
    "postcode = 'W1G 9HF'\n",
    "searchPostCode = {'ChargeDeviceLocation.Address.PostCode': postcode}    # This needs to be identical how it is presented in the data\n",
    "searchResultMany = mongoCollection.find(searchPostCode)\n",
    "print('', '\\t','DB ID', '\\t', 'Device Name', '\\t\\t\\t\\t', 'Post Code')\n",
    "order = 1\n",
    "for result in searchResultMany:\n",
    "    print(order, '\\t', result['_id'], '\\t', result['ChargeDeviceName'], '\\t', result['ChargeDeviceLocation']['Address']['PostCode'])\n",
    "    order += 1\n"
   ]
  },
  {
   "cell_type": "markdown",
   "metadata": {},
   "source": [
    "RESET THE EXERCISE"
   ]
  },
  {
   "cell_type": "code",
   "execution_count": 90,
   "metadata": {},
   "outputs": [],
   "source": [
    "# drop a collection\n",
    "mongoCollection.drop()"
   ]
  },
  {
   "cell_type": "code",
   "execution_count": 50,
   "metadata": {},
   "outputs": [],
   "source": [
    "# drop DB\n",
    "mongoClient.drop_database('mongoDB')"
   ]
  },
  {
   "cell_type": "code",
   "execution_count": 96,
   "metadata": {},
   "outputs": [
    {
     "data": {
      "text/plain": [
       "['admin', 'chargePointsDataBase', 'config', 'local']"
      ]
     },
     "execution_count": 96,
     "metadata": {},
     "output_type": "execute_result"
    }
   ],
   "source": [
    "mongoClient.list_database_names()"
   ]
  }
 ],
 "metadata": {
  "kernelspec": {
   "display_name": "Python 3",
   "language": "python",
   "name": "python3"
  },
  "language_info": {
   "codemirror_mode": {
    "name": "ipython",
    "version": 3
   },
   "file_extension": ".py",
   "mimetype": "text/x-python",
   "name": "python",
   "nbconvert_exporter": "python",
   "pygments_lexer": "ipython3",
   "version": "3.6.7"
  }
 },
 "nbformat": 4,
 "nbformat_minor": 2
}
